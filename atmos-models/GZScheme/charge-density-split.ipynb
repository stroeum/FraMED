{
 "cells": [
  {
   "cell_type": "code",
   "execution_count": 1,
   "metadata": {},
   "outputs": [],
   "source": [
    "# Finding the charge density of one grid cell in my cloud simulations, and interpolating to increase the resolution\n",
    "# This code should be run after charge_density.py finds which extract is the best to use\n",
    "\n",
    "import numpy as np \n",
    "from netCDF4 import Dataset \n",
    "from scipy.special import gamma\n",
    "from astropy.io import ascii\n",
    "from scipy import interpolate\n",
    "from scipy.integrate import trapz\n",
    "import os\n",
    "import matplotlib.pyplot as plt\n",
    "%matplotlib notebook\n",
    "\n",
    "#n = int(input('Input extract # with max charge separation => ')) # read in the best extract\n",
    "n = 1 # Change n to the number of the extract with the maximum charge separation\n",
    "\n",
    "basefolder = '/d1/cklare2017/simulations/lightning-sims/jupiter-9/jet/2xsolar/clouds/' # where my simulations are\n",
    "newpath = basefolder + 'charge-density' # where I will save the outputs\n",
    "# make the newpath if it doesn't exist yet\n",
    "if not os.path.exists(newpath):\n",
    "    os.makedirs(newpath)\n",
    "\n",
    "epic_outputs = Dataset(basefolder + 'extract%d.nc'%(n+100)) # read in the file\n",
    "#print(epic_outputs.variables) # to see units of the variables\n",
    "\n",
    "# get the data we want from EPIC outputs\n",
    "temp = epic_outputs.variables['t'][:] # extract temperature (time, pressure, latitude, longitude), in Kelvins\n",
    "temp = temp[0, :, :, :] # subset the data so the time dimension is gone-not relevant\n",
    "\n",
    "# import latitude and longitude\n",
    "lat = epic_outputs.variables['lat_u'][:] # in degrees\n",
    "lon = epic_outputs.variables['lon_u'][:] # in degrees\n",
    "\n",
    "# Find cloud water mixing ratio (q_c)\n",
    "w_ice = epic_outputs.variables['H_2O_solid'][:] # mass mixing ratio of cloud ice H_2O in kg/kg\n",
    "w_vapor = epic_outputs.variables['H_2O_vapor'][:] # mass mixing ratio of vapor H_2O (kg/kg)\n",
    "w_liquid = epic_outputs.variables['H_2O_liquid'][:] # mass mixing ratio of cloud liquid H_2O (kg/kg)\n",
    "w_rain = epic_outputs.variables['H_2O_rain'][:] # mass mixing ratio of rain (kg/kg)\n",
    "w_snow = epic_outputs.variables['H_2O_snow'][:] # mass mixing ratio of snow (kg/kg)\n",
    "\n",
    "# subset the data (get rid of the time dimension)\n",
    "w_ice = w_ice[0, :, :, :] # water ice mixing ratio, kg/kg\n",
    "w_vapor = w_vapor[0, :, :, :] # water vapor mixing ratio, kg/kg\n",
    "w_liquid = w_liquid[0, :, :, :] # water liquid cloud mixing ratio, kg/kg\n",
    "w_rain = w_rain[0, :, :, :] # water rain mixing ratio, kg/kg\n",
    "w_snow = w_snow[0, :, :, :] # snow mixing ratio, kg/kg\n",
    "\n",
    "P_dry = epic_outputs.variables['pdry'][:] # Pressure of the dry atmosphere, in Pa\n",
    "P_dry = P_dry[0, :, :, :] ## subset the data\n",
    "\n",
    "# altitude\n",
    "z = epic_outputs.variables['z'][:] # altitude (related to pressure by the scale height) (in m)\n",
    "z = z[0,:,0,0]"
   ]
  },
  {
   "cell_type": "code",
   "execution_count": 2,
   "metadata": {},
   "outputs": [
    {
     "name": "stdout",
     "output_type": "stream",
     "text": [
      "3.1317565037335475e-05\n",
      "4.4724817271227357e-11\n"
     ]
    }
   ],
   "source": [
    "#### Part 1 - Finding the charge separation using the Gardiner/Ziegler Scheme ####\n",
    "\n",
    "# First, find dimensions of simulation\n",
    "pressure_dim = len(temp[:,0,0]) # number of pressure gridpoints\n",
    "lat_dim = len(temp[0,:,0]) # number of latitude gridpoints\n",
    "lon_dim = len(temp[0,0,:]) # number of longitude gridpoints\n",
    "\n",
    "# Scaled Temperature\n",
    "Tr = -21.0 # reversal temperature degrees celsius\n",
    "temp_celsius = temp - 273.15 # convert temp from K to degrees celsius\n",
    "tau = np.zeros(np.shape(temp)) # initialize the scaled temperature array\n",
    "f_tau = np.zeros(np.shape(temp)) # f(tau)\n",
    "\n",
    "# find the scaled temperature at each gridpoint\n",
    "for i in range(lat_dim):\n",
    "    for j in range(lon_dim):\n",
    "        for k in range(pressure_dim):\n",
    "            tau[k,i,j] = (-21/Tr)*(temp_celsius[k,i,j]-273.16) # scaled temperature, in celsius\n",
    "            f_tau[k,i,j] = -1.7*10**(-5)*tau[k,i,j]**3-0.003*tau[k,i,j]**2-0.05*tau[k,i,j]+0.13\n",
    "\n",
    "# finding delta L\n",
    "CWC_crit = np.ones(np.shape(temp))*0.1 # critical cloud water content, in g/m**3 \n",
    "# Calculate CWC in g/m**3 - density\n",
    "Ratmo = 3637 # gas constant for Jupiter's atmosphere, in J*kg/m*K\n",
    "\n",
    "rho_dry = P_dry/(Ratmo*temp) # density of the dry atmosphere (kg/m**3)\n",
    "CWC_ice = w_ice*rho_dry*1000 # ice water content in g/m**3\n",
    "CWC_vapor = w_vapor*rho_dry*1000 # vapor water content in g/m**3\n",
    "CWC_liquid = w_liquid*rho_dry*1000 # liquid cloud water content in g/m**3\n",
    "CWC_rain = w_rain*rho_dry*1000 # rain water content in g/m**3\n",
    "CWC_snow = w_snow*rho_dry*1000 # snow water content in g/m**3\n",
    "CWC_all = CWC_ice + CWC_vapor + CWC_liquid + CWC_rain + CWC_snow # CWC if we include everything\n",
    "CWC_only_liq = CWC_rain + CWC_liquid # CWC if we include just water\n",
    "CWC_icesnow = CWC_ice + CWC_snow\n",
    "\n",
    "CWC_final = CWC_icesnow # change this to whichever one we want to test (in g/m**3)\n",
    "\n",
    "# finding n_ice and n_snow an easy way\n",
    "m_water = 18*1.674**10**-24 # mass of a water molecule, in grams\n",
    "n_ice_ez = CWC_ice/m_water # number density of ice (m**-3)\n",
    "n_snow_ez = CWC_snow/m_water # number density of snow\n",
    "\n",
    "# Now, to find delta Ls - different delta L for each species\n",
    "dL_ice = np.zeros(np.shape(temp))\n",
    "#dL_vapor = np.zeros(np.shape(temp))\n",
    "#dL_liquid = np.zeros(np.shape(temp))\n",
    "#dL_rain = np.zeros(np.shape(temp))\n",
    "dL_snow = np.zeros(np.shape(temp))\n",
    "for i in range(lat_dim):\n",
    "    for j in range(lon_dim):\n",
    "        for k in range(pressure_dim):\n",
    "            if temp[k,i,j] > Tr:\n",
    "                dL_ice[k, i, j] = CWC_final[k,i,j]-CWC_crit[k,i,j] # find dL for ice, in g/m**3\n",
    "                dL_snow[k, i, j] = CWC_final[k,i,j]-CWC_crit[k,i,j] # find dL for snow, in g/m**3\n",
    "            elif temp[k,i,j] <= Tr and CWC_final[k,i,j] >= 10**(-6):\n",
    "                dL_ice[k, i, j] = CWC_final[k,i,j] # find dL for ice, in g/m**3\n",
    "                dL_snow[k, i, j] = CWC_final[k,i,j] # find dL for snow, in g/m**3\n",
    "    \n",
    "# Diameter of ice particles \n",
    "# This is calculated using the methods described in Dr. Palotai's 2008 paper\n",
    "# first, define the power law constants\n",
    "alpha = 7.06165*10**(-3) # alpha constant for water ice\n",
    "beta = 2.0 # for water ice\n",
    "c = 5.38*10**7 # for water ice\n",
    "d = 0.75 # for water ice\n",
    "N_ice = np.zeros(np.shape(temp)) # Number density of ice\n",
    "M_ice = np.zeros(np.shape(temp)) # mass of the ice\n",
    "D_ice = np.zeros(np.shape(temp)) # diameter of the ice\n",
    "\n",
    "for i in range (lat_dim):\n",
    "    for j in range(lon_dim):\n",
    "        for k in range(pressure_dim):\n",
    "            N_ice[k,i,j] = c*(rho_dry[k,i,j]*w_ice[k,i,j])**d # Number density of ice, defined in the paper, in m**-3\n",
    "            if N_ice[k,i,j] != 0: # avoid dividing by zero\n",
    "                M_ice[k,i,j] = (rho_dry[k,i,j]*w_ice[k,i,j])/N_ice[k,i,j] # mass of ice, in kg\n",
    "                D_ice[k,i,j] = (M_ice[k,i,j]/alpha)**(1/beta) # Diameter of the ice particles, in meters\n",
    "\n",
    "# mass weighted average terminal fall speeds\n",
    "# Terminal Velocity of Snow (graupel) and terminal velocity of ice\n",
    "# terminal velocity of the ice particles is negligble compared to the terminal velocity of snow, so we approximate\n",
    "# delta_v = vt_snow. Dr. Palotai says if Dr. Riousset has a problem with this approximation we can make it more accurate\n",
    "\n",
    "delta_v = np.zeros(np.shape(temp)) # mass averaged terminal velocity of snow in m/s\n",
    "P_0 = 100000 # reference pressure, in Pa\n",
    "gamma_var = 0.47 # gamma is the same for ice and snow ice\n",
    "x_snow = 50.172 \n",
    "y_snow = 0.47798\n",
    "rho_snow = 0.5*917 # density of snow (kg/m**3) (half of the density of ice)\n",
    "T_tp = 273.16 # temperature of the triple point of water\n",
    "# Find N_0_snow, the intercept parameter\n",
    "N_0_snow = np.ones(np.shape(temp))\n",
    "# find lambda_snow, the slope parameter (m**-1)\n",
    "lambda_snow = np.zeros(np.shape(temp))\n",
    "for i in range(lat_dim):\n",
    "    for j in range(lon_dim):\n",
    "        for k in range(pressure_dim):\n",
    "            if 0.01*np.exp(-0.12*(temp[k,i,j]-T_tp)) < 1:\n",
    "                N_0_snow[k,i,j] = 2*10**8*0.01*np.exp(-0.12*(temp[k,i,j]-T_tp))\n",
    "            else:\n",
    "                N_0_snow[k,i,j] = 2*10**8\n",
    "            if w_snow[k,i,j]*rho_dry[k,i,j] == 0: # to avoid a divide by zero error\n",
    "                lambda_snow[k,i,j] = 0\n",
    "                delta_v[k,i,j] = 0\n",
    "            else:\n",
    "                lambda_snow[k,i,j] = (np.pi*rho_snow*N_0_snow[k,i,j]/(rho_dry[k,i,j]*w_snow[k,i,j]))**(1/4)\n",
    "                delta_v[k,i,j] = x_snow/(lambda_snow[k,i,j]**y_snow)*gamma(y_snow+4)/6*(P_0/P_dry[k,i,j])**gamma_var # units?\n",
    "\n",
    "# delta v is in m/s\n",
    "# calculate delts v for Earth and plot with delta v for Jupiter and make sure it's 50%-200% greater than Earth\n",
    "\n",
    "#### Now, we can find the charge separation of each species\n",
    "delta_q_ice = np.zeros(np.shape(temp),dtype = float) # the charge separation\n",
    "delta_q_snow = np.zeros(np.shape(temp),dtype = float) # the charge separation\n",
    "for i in range (lat_dim):\n",
    "    for j in range(lon_dim):\n",
    "        for k in range(pressure_dim):\n",
    "            delta_q_ice[k, i, j] = 7.3*D_ice[k,i,j]**4*delta_v[k,i,j]**3*dL_ice[k,i,j]*f_tau[k,i,j] # find delta q of ice\n",
    "            delta_q_snow[k, i, j] = 7.3*D_ice[k,i,j]**4*delta_v[k,i,j]**3*dL_snow[k,i,j]*f_tau[k,i,j] # find delta q of snow\n",
    "#delta_q = delta_q_ice + delta_q_snow # sum all the delta qs together\n",
    "\n",
    "# question - did we establish the units of delta_q? \n",
    "\n",
    "# finding the number densities of everything else\n",
    "\n",
    "# Number density of vapor - assume water vapor is an ideal gas\n",
    "# PV = nRT\n",
    "# N = n/V\n",
    "# N = P/RT (not specific R, the R)\n",
    "R = 8.3145 # J/(mol*K)\n",
    "N_moles = P_dry/(R*temp) # moles/m**3\n",
    "N_vapor = 6.02*10**23*N_moles # particles/m**3\n",
    "#print(N_vapor)\n",
    "\n",
    "# we already have N_ice\n",
    "\n",
    "# N_rain and snow and liquid\n",
    "# Note - N_0_snow is the same as N_0 for all  the other species except rain\n",
    "N_0_rain = 8*10**6 # the intercept parameter for rain (pg 24 in Dr. Palotai's paper)\n",
    "rho_liquid_water = 1000.0 # (kg/m**3) - density of cloud water and rain\n",
    "lambda_rain = np.zeros(np.shape(temp))\n",
    "lambda_snow = np.zeros(np.shape(temp))\n",
    "lambda_liquid = np.zeros(np.shape(temp))\n",
    "D_min = 200*10**-6 # minimum raindrop diameter (m)\n",
    "D_max = 5*10**-3 # maximum raindrop diameter (m)\n",
    "rain_diameters = np.linspace(D_min, D_max, 100)\n",
    "snow_diameters = np.linspace(2*10**-3,5*10**-3) # snow diameters\n",
    "liquid_diameters = np.linspace(1*10**-6,200*10**-6) # cloud water droplet diameters\n",
    "\n",
    "\n",
    "N_rain = np.zeros(np.shape(temp)) # m**-3\n",
    "N_snow = np.zeros(np.shape(temp))\n",
    "N_liquid = np.zeros(np.shape(temp))\n",
    "\n",
    "for i in range(lat_dim):\n",
    "    for j in range(lon_dim):\n",
    "        for k in range(pressure_dim):\n",
    "            if w_rain[k,i,j] != 0:\n",
    "                lambda_rain[k,i,j] = (np.pi*rho_liquid_water*N_0_rain/(rho_dry[k,i,j]*w_rain[k,i,j]))\n",
    "                N_rain[k,i,j] = trapz(N_0_rain*np.exp(-lambda_rain[k,i,j]*rain_diameters))\n",
    "            if w_snow[k,i,j] != 0:\n",
    "                lambda_snow[k,i,j] = (np.pi*rho_snow*N_0_snow[k,i,j]/(rho_dry[k,i,j]*w_snow[k,i,j]))**(1/4)\n",
    "                N_snow[k,i,j] = trapz(N_0_snow[k,i,j]*np.exp(-lambda_snow[k,i,j]*snow_diameters))\n",
    "            if w_liquid[k,i,j] != 0:\n",
    "                lambda_liquid[k,i,j] = (np.pi*rho_liquid_water*N_0_rain/(rho_dry[k,i,j]*w_liquid[k,i,j]))**(1/4)\n",
    "                N_liquid[k,i,j] = trapz(N_0_rain*np.exp(-lambda_liquid[k,i,j]*liquid_diameters))\n",
    "\n",
    "\n",
    "\n",
    "N_total = N_ice + N_snow\n",
    "\n",
    "# assign signs to the charge separations\n",
    "delta_q_snow_pm = np.zeros(np.shape(temp))\n",
    "delta_q_ice_pm = np.zeros(np.shape(temp))\n",
    "for i in range(lat_dim):\n",
    "    for j in range(lon_dim):\n",
    "        for k in range(pressure_dim):\n",
    "            if CWC_snow[k,i,j] > CWC_crit[k,i,j] and temp_celsius[k,i,j] > Tr:\n",
    "                delta_q_snow_pm[k,i,j] = abs(delta_q_snow[k,i,j])\n",
    "            else:\n",
    "                delta_q_snow_pm[k,i,j] = -1*abs(delta_q_snow[k,i,j])\n",
    "            if CWC_ice[k,i,j] > CWC_crit[k,i,j] and temp_celsius[k,i,j] > Tr:\n",
    "                delta_q_ice_pm[k,i,j] = abs(delta_q_ice[k,i,j])\n",
    "            else:\n",
    "                delta_q_ice_pm[k,i,j] = -1*abs(delta_q_ice[k,i,j])\n",
    "                \n",
    "# find the total charge density\n",
    "q_total = np.zeros(np.shape(temp))\n",
    "for i in range(lat_dim):\n",
    "    for j in range(lon_dim):\n",
    "        for k in range(pressure_dim):\n",
    "            q_total[k,i,j] = N_ice[k,i,j]*delta_q_ice_pm[k,i,j]+(N_snow[k,i,j]*delta_q_snow_pm[k,i,j]) # in Coulombs\n",
    "print(np.max(q_total))\n",
    "print(np.max(delta_q_snow))\n"
   ]
  },
  {
   "cell_type": "code",
   "execution_count": 3,
   "metadata": {},
   "outputs": [],
   "source": [
    "# get number density\n",
    "mu_Jupiter = 2.22 # mean molecular weight of Jupiter's atmosphere, in kg/mol\n",
    "N_A = 6.02*10**23 # avogardo's number\n",
    "nd = N_A*rho_dry/mu_Jupiter # number density in m**-3"
   ]
  },
  {
   "cell_type": "code",
   "execution_count": 4,
   "metadata": {},
   "outputs": [
    {
     "name": "stdout",
     "output_type": "stream",
     "text": [
      "1.2692370650141223\n"
     ]
    }
   ],
   "source": [
    "print(np.max(delta_v))"
   ]
  },
  {
   "cell_type": "code",
   "execution_count": 3,
   "metadata": {
    "scrolled": true
   },
   "outputs": [
    {
     "name": "stdout",
     "output_type": "stream",
     "text": [
      "0.004559458405552297\n",
      "46389.70364563835\n",
      "0.02280252570145296\n",
      "738833.1930930141\n"
     ]
    },
    {
     "data": {
      "text/plain": [
       "[<matplotlib.lines.Line2D at 0x7f9c31b5b668>,\n",
       " <matplotlib.lines.Line2D at 0x7f9c31b5b6a0>,\n",
       " <matplotlib.lines.Line2D at 0x7f9c31b5b780>,\n",
       " <matplotlib.lines.Line2D at 0x7f9c31b5b828>,\n",
       " <matplotlib.lines.Line2D at 0x7f9c31b5b8d0>,\n",
       " <matplotlib.lines.Line2D at 0x7f9c31b5b978>,\n",
       " <matplotlib.lines.Line2D at 0x7f9c31b5ba20>,\n",
       " <matplotlib.lines.Line2D at 0x7f9c31b5bac8>,\n",
       " <matplotlib.lines.Line2D at 0x7f9c31b5bb70>,\n",
       " <matplotlib.lines.Line2D at 0x7f9c31b5bc18>,\n",
       " <matplotlib.lines.Line2D at 0x7f9c31af4710>,\n",
       " <matplotlib.lines.Line2D at 0x7f9c31b5bd30>,\n",
       " <matplotlib.lines.Line2D at 0x7f9c31b5bdd8>,\n",
       " <matplotlib.lines.Line2D at 0x7f9c31b5be80>,\n",
       " <matplotlib.lines.Line2D at 0x7f9c31b5bf28>,\n",
       " <matplotlib.lines.Line2D at 0x7f9c31b5bfd0>,\n",
       " <matplotlib.lines.Line2D at 0x7f9c31b560b8>,\n",
       " <matplotlib.lines.Line2D at 0x7f9c31b56160>,\n",
       " <matplotlib.lines.Line2D at 0x7f9c31b56208>,\n",
       " <matplotlib.lines.Line2D at 0x7f9c31b562b0>,\n",
       " <matplotlib.lines.Line2D at 0x7f9c31b56358>,\n",
       " <matplotlib.lines.Line2D at 0x7f9c31b56400>,\n",
       " <matplotlib.lines.Line2D at 0x7f9c31b564a8>,\n",
       " <matplotlib.lines.Line2D at 0x7f9c31b56550>,\n",
       " <matplotlib.lines.Line2D at 0x7f9c31b565f8>,\n",
       " <matplotlib.lines.Line2D at 0x7f9c31b566a0>,\n",
       " <matplotlib.lines.Line2D at 0x7f9c31b56748>,\n",
       " <matplotlib.lines.Line2D at 0x7f9c31b567f0>,\n",
       " <matplotlib.lines.Line2D at 0x7f9c31b56898>,\n",
       " <matplotlib.lines.Line2D at 0x7f9c31b56940>,\n",
       " <matplotlib.lines.Line2D at 0x7f9c31b569e8>,\n",
       " <matplotlib.lines.Line2D at 0x7f9c31b56a90>,\n",
       " <matplotlib.lines.Line2D at 0x7f9c31b56b38>,\n",
       " <matplotlib.lines.Line2D at 0x7f9c31b56be0>,\n",
       " <matplotlib.lines.Line2D at 0x7f9c31b56c88>,\n",
       " <matplotlib.lines.Line2D at 0x7f9c31b56d30>,\n",
       " <matplotlib.lines.Line2D at 0x7f9c31b56dd8>,\n",
       " <matplotlib.lines.Line2D at 0x7f9c31b56e80>,\n",
       " <matplotlib.lines.Line2D at 0x7f9c31b56f28>,\n",
       " <matplotlib.lines.Line2D at 0x7f9c31b56fd0>,\n",
       " <matplotlib.lines.Line2D at 0x7f9c31b680b8>,\n",
       " <matplotlib.lines.Line2D at 0x7f9c31b68160>,\n",
       " <matplotlib.lines.Line2D at 0x7f9c31b68208>,\n",
       " <matplotlib.lines.Line2D at 0x7f9c31b682b0>,\n",
       " <matplotlib.lines.Line2D at 0x7f9c31b68358>,\n",
       " <matplotlib.lines.Line2D at 0x7f9c31b68400>,\n",
       " <matplotlib.lines.Line2D at 0x7f9c31b684a8>,\n",
       " <matplotlib.lines.Line2D at 0x7f9c31b68550>,\n",
       " <matplotlib.lines.Line2D at 0x7f9c31b685f8>,\n",
       " <matplotlib.lines.Line2D at 0x7f9c31b686a0>,\n",
       " <matplotlib.lines.Line2D at 0x7f9c31b68748>,\n",
       " <matplotlib.lines.Line2D at 0x7f9c31b687f0>,\n",
       " <matplotlib.lines.Line2D at 0x7f9c31b68898>,\n",
       " <matplotlib.lines.Line2D at 0x7f9c31b68940>,\n",
       " <matplotlib.lines.Line2D at 0x7f9c31b689e8>,\n",
       " <matplotlib.lines.Line2D at 0x7f9c31b68a90>,\n",
       " <matplotlib.lines.Line2D at 0x7f9c31b68b38>,\n",
       " <matplotlib.lines.Line2D at 0x7f9c31b68be0>,\n",
       " <matplotlib.lines.Line2D at 0x7f9c31b68c88>,\n",
       " <matplotlib.lines.Line2D at 0x7f9c31b68d30>,\n",
       " <matplotlib.lines.Line2D at 0x7f9c31b68dd8>,\n",
       " <matplotlib.lines.Line2D at 0x7f9c31b68e80>,\n",
       " <matplotlib.lines.Line2D at 0x7f9c31b68f28>,\n",
       " <matplotlib.lines.Line2D at 0x7f9c31b68fd0>]"
      ]
     },
     "execution_count": 3,
     "metadata": {},
     "output_type": "execute_result"
    },
    {
     "data": {
      "image/png": "[encoded data removed]",
      "text/plain": [
       "<Figure size 432x288 with 1 Axes>"
      ]
     },
     "metadata": {
      "needs_background": "light"
     },
     "output_type": "display_data"
    }
   ],
   "source": [
    "print(np.max(n_ice_ez))\n",
    "print(np.max(N_ice))\n",
    "print(np.max(n_snow_ez))\n",
    "print(np.max(N_snow))\n",
    "\n",
    "plt.plot(tau[:,0], f_tau[:,0])\n",
    "#plt.plot(P_dry[:,0],temp[:,0])\n",
    "#plt.xlabel('Pressure')\n",
    "#plt.ylabel('Temperature [K]')\n",
    "# n/V = RT/P"
   ]
  },
  {
   "cell_type": "code",
   "execution_count": 5,
   "metadata": {},
   "outputs": [],
   "source": [
    "# Next, interpolate so we have evenly spaced altitude layers\n",
    "# We don't need this anymore\n",
    "\n",
    "\n",
    "# basically, my charge distribution will be upside down (bottom of the atmosphere will be at the top)\n",
    "'''\n",
    "# Interpolation of z, temp, and number density, and delta_q in the pressure/z-direction using regular grid interpolater\n",
    "# This interpolation is to get evenly spaced \n",
    "interp_func = interpolate.RegularGridInterpolator((z_ascending, lat, lon), q_total, method = 'linear', bounds_error = False, fill_value = None) # this creates a function delta_q(z)\n",
    "z_i = z_ascending[0]\n",
    "z_f = z_ascending[len(z)-1]\n",
    "z_even = np.linspace(z_i, z_f, len(z)) # evenly spaced altitude values in our range - new grid\n",
    "\n",
    "# initialize an array of zeros, which will populate with the interpolated values\n",
    "rho_q_new = np.zeros(np.shape(temp))\n",
    "\n",
    "# Now, temperature and number density of each layer\n",
    "\n",
    "# function to find T(z)\n",
    "T_fun = interpolate.RegularGridInterpolator((z_ascending, lat, lon), temp, method = 'linear', bounds_error = False, fill_value = None) \n",
    "# function to find Nd(z)\n",
    "Nd_fun = interpolate.RegularGridInterpolator((z_ascending, lat, lon), nd, method = 'linear', bounds_error = False, fill_value = None) \n",
    "\n",
    "# Now that I have my interpolation functions, find the interpolated values at each gridpoint\n",
    "temp_even = np.zeros(np.shape(temp)) # temperature with evenly spaced altitude layers\n",
    "Nd_even = np.zeros(np.shape(temp)) # number density with evenly spaced altitude layers\n",
    "\n",
    "# fill in each gridpoint of the new array\n",
    "for i in range(len(z_even)):\n",
    "    for j in range(len(lat)):\n",
    "        for k in range(len(lon)):\n",
    "            rho_q_new[i,j,k] = interp_func((z_even[i],lat[j],lon[k])) # my interpolated charge separation values\n",
    "            temp_even[i,j,k] = T_fun((z_even[i], lat[j], lon[k]))\n",
    "            Nd_even[i,j,k] = Nd_fun((z_even[i],lat[j],lon[k]))\n",
    "'''"
   ]
  },
  {
   "cell_type": "code",
   "execution_count": 5,
   "metadata": {},
   "outputs": [
    {
     "name": "stdout",
     "output_type": "stream",
     "text": [
      "[273245.84030885 257167.22543282 241771.08495942 225133.50188597\n",
      " 211840.79002877 200269.97182194 189578.4462215  181702.29448956\n",
      " 176434.54395885 168833.25721373 163943.41331864 157480.599824\n",
      " 153751.27271951 148412.52620456 141945.52628959 136009.83245183\n",
      " 130181.13862882 123672.52388865 115474.21236    107821.17137736\n",
      "  99987.9572576   94260.17025252  89086.06803845  82568.50873423\n",
      "  76708.89665743  69937.70230985  61938.77058647  53130.74821145\n",
      "  45302.50176423  36005.3768454   25756.52141161  14941.99963548\n",
      "      0.        ]\n"
     ]
    }
   ],
   "source": [
    "print(z)"
   ]
  },
  {
   "cell_type": "code",
   "execution_count": 7,
   "metadata": {},
   "outputs": [
    {
     "name": "stdout",
     "output_type": "stream",
     "text": [
      "3.1317565037335475e-05\n",
      "[16.32407407 16.56481481 16.80555556]\n",
      "[6.09375  6.328125 6.5625  ]\n"
     ]
    }
   ],
   "source": [
    "###### Zooming in on a single grid column, and using the surrounding layers to interpolate values ######\n",
    "## Since my altitude range is much smaller than my latitude and longitude ranges, I'm going to use the entire altitude range\n",
    "# This cell is really slow # \n",
    "    \n",
    "q_max = np.amax(abs(q_total)) # grid cell with the maximum charge separation\n",
    "print(q_max)\n",
    "grid_index_z, grid_index_lat, grid_index_lon = np.where(abs(q_total) == np.amax(abs(q_total))) # index where the maximum charge separation occurs\n",
    "# I don't care about grid_index_z because I'm using all z values\n",
    "\n",
    "# I need the indices to be integers, not arrays\n",
    "grid_index_lat = grid_index_lat[0]\n",
    "grid_index_lon = grid_index_lon[0]\n",
    "lat_indices = np.array([grid_index_lat -1, grid_index_lat, grid_index_lat+1])\n",
    "lon_indices = np.array([grid_index_lon -1, grid_index_lon, grid_index_lon+1])\n",
    "\n",
    "# pick the latitude and longitude values for the interpolation\n",
    "lat_vals = np.array([lat[grid_index_lat-1], lat[grid_index_lat], lat[grid_index_lat+1]])\n",
    "lon_vals = np.array([lon[grid_index_lon-1], lon[grid_index_lon], lon[grid_index_lon + 1]])\n",
    "\n",
    "# to avoid having a corner piece\n",
    "if grid_index_lat == 0:\n",
    "    lat_vals[0] = lat[grid_index_lat]-(lat[grid_index_lat+1]-lat[grid_index_lat])\n",
    "if grid_index_lon == 0:\n",
    "    lon_vals[0] = lon[grid_index_lon]-(lat[grid_index_lon+1]-lat[grid_index_lon])\n",
    "\n",
    "print(lat_vals)\n",
    "print(lon_vals)\n",
    "\n",
    "# My small charge separation, temperature, and number density arrays\n",
    "rho_q_smol = np.zeros((len(z),3,3), dtype = float)\n",
    "t_smol = np.zeros((len(z),3,3), dtype = float)\n",
    "nd_smol = np.zeros((len(z),3,3), dtype = float)\n",
    "for k in range(3):\n",
    "    for j in range (3):\n",
    "        for i in range (len(z)):\n",
    "            rho_q_smol[i,j,k] = q_total[i,lat_indices[j], lon_indices[k]]\n",
    "            t_smol[i,j,k] = temp[i,lat_indices[j], lon_indices[k]]\n",
    "            nd_smol[i,j,k] = nd[i,lat_indices[j], lon_indices[k]]\n",
    "            \n",
    "# the z values must be strictly ascending, so I need to flip q along the z axis\n",
    "z_ascending = np.flip(z) # regular grid inteprolator requires all the dimensions to be strictly increasing\n",
    "q_smol_flipped = np.flip(rho_q_smol, axis = 0)\n",
    "t_smol_flipped = np.flip(t_smol, axis = 0)\n",
    "nd_smol_flipped = np.flip(nd_smol, axis=0)\n",
    "\n",
    "# I need 120 grid points in each direction so I can have a final grid size of 40x40\n",
    "lat_range = np.linspace(lat_vals[0], lat_vals[2], 120)\n",
    "lon_range = np.linspace(lon_vals[0], lon_vals[2], 120)\n",
    "#interp_x = np.zeros((len(z_even), len(lat_range), len(lon_range)), dtype = float)\n",
    "\n",
    "\n",
    "\n",
    "# Interpolation functions\n",
    "q_interp_function = interpolate.RegularGridInterpolator((z_ascending,lat_vals, lon_vals), q_smol_flipped, method = 'linear', bounds_error = False, fill_value = None)\n",
    "t_interp_function = interpolate.RegularGridInterpolator((z_ascending, lat_vals, lon_vals), t_smol_flipped, method = 'linear', bounds_error = False, fill_value = None)\n",
    "nd_interp_function = interpolate.RegularGridInterpolator((z_ascending, lat_vals, lon_vals), nd_smol_flipped, method = 'linear', bounds_error = False, fill_value = None)\n",
    "\n",
    "# new interpolated arrays\n",
    "q_interpolated = np.zeros((len(z_ascending),len(lat_range), len(lon_range)), dtype = float)\n",
    "temp_interpolated = np.zeros(np.shape(q_interpolated))\n",
    "nd_interpolated = np.zeros(np.shape(q_interpolated))\n",
    "\n",
    "# evaluate the interpolation\n",
    "for i in range(len(z)):\n",
    "    for j in range (len(lat_range)):\n",
    "        for k in range (len(lon_range)):\n",
    "            q_interpolated[i,j,k] = q_interp_function((z_ascending[i],lat_range[j],lon_range[k]))\n",
    "            temp_interpolated[i,j,k] = t_interp_function((z_ascending[i],lat_range[j],lon_range[k]))\n",
    "            nd_interpolated[i,j,k] = nd_interp_function((z_ascending[i],lat_range[j],lon_range[k]))\n",
    "\n"
   ]
  },
  {
   "cell_type": "code",
   "execution_count": 8,
   "metadata": {},
   "outputs": [
    {
     "name": "stdout",
     "output_type": "stream",
     "text": [
      "3.0931765853552904e-05\n"
     ]
    }
   ],
   "source": [
    "print(np.max(q_interpolated))\n"
   ]
  },
  {
   "cell_type": "code",
   "execution_count": 10,
   "metadata": {},
   "outputs": [
    {
     "name": "stdout",
     "output_type": "stream",
     "text": [
      "(33,)\n"
     ]
    },
    {
     "data": {
      "image/png": "[encoded data removed]",
      "text/plain": [
       "<Figure size 432x288 with 1 Axes>"
      ]
     },
     "metadata": {
      "needs_background": "light"
     },
     "output_type": "display_data"
    }
   ],
   "source": [
    "# Now, extract only the original grid cell, over all altitude values which now has now been broken up into 40x40x40\n",
    "N_lat = 40\n",
    "N_lon = 40\n",
    "N_z = len(z_ascending)\n",
    "q_smoller = q_interpolated[:,39:79,39:79]\n",
    "temp_final = temp_interpolated[:,39:79,39:79]\n",
    "nd_final = nd_interpolated[:,39:79,39:79]\n",
    "\n",
    "# Find the charge density\n",
    "dz = abs(z_ascending[1]-z_ascending[0]) # length of one gridcell in the z-direction, in meters\n",
    "dx = abs(lat_range[1]-lat_range[0])*1166820 # length of one grid cell in the latitude direction, in meters (1166.82 km in one degree at 24 N)\n",
    "dy = abs(lon_range[1]-lon_range[0])*1220000 # length of one grid cell in the longitude direction, in meters (1220.18km = 1 degree longitude)\n",
    "grid_volume = dz*dx*dy # in m^3\n",
    "\n",
    "# charge density\n",
    "rho_q = q_smoller\n",
    "\n",
    "# we want charge density in nano C/m**3\n",
    "#rho_q = 10**9*rho_q\n",
    "#plt.plot(rho_q[:,0],z_even)\n",
    "plt.clf()\n",
    "print(q_total[:,0,0].shape)\n",
    "plt.plot(q_total[:,0,0], P_dry[:,0,0])\n",
    "plt.yscale('log')"
   ]
  },
  {
   "cell_type": "code",
   "execution_count": 8,
   "metadata": {},
   "outputs": [],
   "source": [
    "# Writing my data to output files\n",
    "\n",
    "# Nxyz.dat - number of gridpoints\n",
    "Nx = N_lat\n",
    "Ny = N_lon\n",
    "Nz = N_z\n",
    "Nxyz = np.array([Nx, Ny, Nz])\n",
    "#c = open(newpath + '/Nxyz.dat', 'w+')\n",
    "np.savetxt(newpath + '/Nxyz.dat', Nxyz)\n",
    "#c.close()\n",
    "\n",
    "# Dxyz.dat - resolution\n",
    "Dxyz = np.array([dx, dy, dz])\n",
    "h = open(newpath + '/Dxyz.dat', 'w+')\n",
    "np.savetxt(newpath + '/Dxyz.dat', Dxyz)\n",
    "h.close()\n",
    "\n",
    "# ground z - the ground altitude\n",
    "z_ground = np.array([0]) #in meters\n",
    "zg = open(newpath + '/z_gnd.dat', 'w+')\n",
    "np.savetxt(newpath + '/z_gnd.dat', z_ground)\n",
    "zg.close()\n",
    "'''\n",
    "rho_q[1,1,1]\n",
    "# charge density\n",
    "with open(newpath + \"/rhoAmb.dat\", 'w') as outfile:\n",
    "    for data_slice in rho_q:\n",
    "        outfile.write('# new slice \\n')\n",
    "        np.savetxt(outfile, data_slice)\n",
    "        \n",
    "'''\n",
    "outfile =open(newpath + '/rhoAmb.dat', 'w')\n",
    "rho_q_nC = rho_q*10**9\n",
    "for k in range(Nz): # pressure/altitude\n",
    "    for i in range(Nx): # latitude\n",
    "        for j in range(Ny): # longitude\n",
    "        #np.savetxt(outfile,np.transpose(rho_q[k,i,:]))\n",
    "            outfile.write('%f ' %rho_q_nC[k,i,j])\n",
    "            #outfile.write('')\n",
    "            \n",
    "        outfile.write('\\n')\n",
    "        \n",
    "    outfile.write('\\n')\n",
    "            \n",
    "outfile.close()     \n",
    "'''\n",
    "#l.write('# Array shape: {0}\\n'.format(np.shape(q_density)))\n",
    "q_density_2d = np.reshape(rho_q, (Nx*(Nz), Ny)) # reshaping q_density so it's a 2d \"stack\" of all the slices\n",
    "np.savetxt(newpath + '/rhoAmb.dat', q_density_2d)\n",
    "'''\n",
    "\n",
    "#print(q_density_2d)\n",
    "# average temperature in each vertical layer\n",
    "o = open(newpath + \"/avg_temp.dat\", 'w+')\n",
    "avg_temp = np.zeros((Nz,), dtype = float) # average temperature of each vertical layer\n",
    "for i in range(Nz):\n",
    "    avg_temp[i] = np.average(temp_final[i,:,:], axis = None)\n",
    "o.write('# Array shape: {0}\\n'.format(np.shape(avg_temp)))\n",
    "np.savetxt(newpath + '/avg_temp.dat', avg_temp)\n",
    "o.close()\n",
    "\n",
    "# average number density in each vertical layer\n",
    "e = open(newpath + \"/avg_nd.dat\", 'w+')\n",
    "avg_nd = np.zeros((Nz,), dtype = float)\n",
    "for i in range (Nz):\n",
    "    avg_nd[i] = np.average(nd_final[i,:,:], axis = None)\n",
    "e.write('# Array shape: {0}\\n'.format(np.shape(avg_nd)))\n",
    "np.savetxt(newpath + '/avg_nd.dat', avg_nd)\n",
    "e.close()\n",
    "\n",
    "# z - altitude (in km)\n",
    "k = open(newpath + \"/alt.dat\", 'w+')\n",
    "k.write('# Array shape: {0}\\n'.format(np.shape(z)))\n",
    "k.write('Altitude (km)')\n",
    "np.savetxt(newpath + '/alt.dat', z[:])\n",
    "k.close()\n",
    "\n",
    "\n"
   ]
  },
  {
   "cell_type": "code",
   "execution_count": 9,
   "metadata": {},
   "outputs": [
    {
     "name": "stdout",
     "output_type": "stream",
     "text": [
      "[4.51857620e+19 6.96590554e+19 1.06212358e+20 1.78980072e+20\n",
      " 4.29198386e+20 8.82259514e+20 1.72440883e+21 3.11135203e+21\n",
      " 5.00501003e+21 8.19876487e+21 1.39880692e+22 1.99342021e+22\n",
      " 2.51746874e+22 3.17022581e+22 3.89613353e+22 4.68511627e+22\n",
      " 5.87879548e+22 7.54767915e+22 9.48636431e+22 1.12974607e+23\n",
      " 1.32893325e+23 1.51417503e+23 1.74339115e+23 1.93933732e+23\n",
      " 2.11689696e+23 2.28764718e+23 2.47308012e+23 2.65243471e+23\n",
      " 2.82828739e+23 3.03185053e+23 3.24809574e+23 3.53871663e+23\n",
      " 3.83919468e+23]\n"
     ]
    }
   ],
   "source": [
    "print(avg_nd)"
   ]
  },
  {
   "cell_type": "code",
   "execution_count": 12,
   "metadata": {},
   "outputs": [
    {
     "name": "stdout",
     "output_type": "stream",
     "text": [
      "(81,)\n",
      "(33, 81, 64)\n",
      "4.2599044223696057e-07\n",
      "4.2599044223696057e-07\n"
     ]
    },
    {
     "data": {
      "image/png": "[encoded data removed]",
      "text/plain": [
       "<Figure size 432x288 with 1 Axes>"
      ]
     },
     "metadata": {
      "needs_background": "light"
     },
     "output_type": "display_data"
    },
    {
     "data": {
      "text/plain": [
       "<Figure size 432x288 with 0 Axes>"
      ]
     },
     "metadata": {},
     "output_type": "display_data"
    },
    {
     "data": {
      "image/png": "[encoded data removed]",
      "text/plain": [
       "<Figure size 432x288 with 1 Axes>"
      ]
     },
     "metadata": {
      "needs_background": "light"
     },
     "output_type": "display_data"
    },
    {
     "data": {
      "text/plain": [
       "<Figure size 432x288 with 0 Axes>"
      ]
     },
     "metadata": {},
     "output_type": "display_data"
    },
    {
     "data": {
      "image/png": "[encoded data removed]",
      "text/plain": [
       "<Figure size 432x288 with 1 Axes>"
      ]
     },
     "metadata": {
      "needs_background": "light"
     },
     "output_type": "display_data"
    },
    {
     "data": {
      "text/plain": [
       "<Figure size 432x288 with 0 Axes>"
      ]
     },
     "metadata": {},
     "output_type": "display_data"
    },
    {
     "data": {
      "image/png": "[encoded data removed]",
      "text/plain": [
       "<Figure size 432x288 with 1 Axes>"
      ]
     },
     "metadata": {
      "needs_background": "light"
     },
     "output_type": "display_data"
    },
    {
     "data": {
      "text/plain": [
       "<Figure size 432x288 with 0 Axes>"
      ]
     },
     "metadata": {},
     "output_type": "display_data"
    },
    {
     "data": {
      "image/png": "[encoded data removed]",
      "text/plain": [
       "<Figure size 432x288 with 1 Axes>"
      ]
     },
     "metadata": {
      "needs_background": "light"
     },
     "output_type": "display_data"
    },
    {
     "data": {
      "text/plain": [
       "<Figure size 432x288 with 0 Axes>"
      ]
     },
     "metadata": {},
     "output_type": "display_data"
    },
    {
     "data": {
      "image/png": "[encoded data removed]",
      "text/plain": [
       "<Figure size 432x288 with 1 Axes>"
      ]
     },
     "metadata": {
      "needs_background": "light"
     },
     "output_type": "display_data"
    }
   ],
   "source": [
    "# Making plots\n",
    "print(lat.shape)\n",
    "print(P_dry.shape)\n",
    "\n",
    "# integrate the density of each species over all latitudes (axis 1 = latitude)\n",
    "integrated_ice_density = np.trapz(CWC_ice, lat, axis = 1)\n",
    "integrated_snow_density = np.trapz(CWC_snow, lat, axis = 1)\n",
    "integrated_rain_density = np.trapz(CWC_rain, lat, axis = 1)\n",
    "integrated_liquid_density = np.trapz(CWC_liquid, lat, axis = 1)\n",
    "integrated_vapor_density = np.trapz(CWC_vapor, lat, axis = 1)\n",
    "integrated_everything = np.trapz(CWC_all, lat, axis = 1)\n",
    "\n",
    "# average q over all latitudes\n",
    "avg_q = np.mean(q_total, axis = 1)\n",
    "avg_q_x2 = np.mean(avg_q, axis = 1)*10**8*4+2\n",
    "print(np.max(avg_q))\n",
    "fig = plt.figure()\n",
    "fig.tight_layout()\n",
    "ax = fig.add_subplot(111) ## creates the axis\n",
    "# plot the contours\n",
    "# First, vapor\n",
    "ax.plot(avg_q_x2, P_dry[:,0,0], color = 'k', zorder = 5)\n",
    "ax.contourf(lon, P_dry[:,0,0], integrated_vapor_density, cmap=plt.get_cmap(\"Blues\"))\n",
    "ax.set_yscale('log')\n",
    "ax.invert_yaxis()\n",
    "ax.plot(avg_q, P_dry[:,0,0], color = 'k', zorder = 5)\n",
    "ax.set_ylabel('Pressure [mbar]')\n",
    "ax.set_xlabel(r'Longitude [$\\degree$ East]')\n",
    "plt.title('Integrated Water Vapor Density')\n",
    "\n",
    "plt.figure()\n",
    "f, ax1 = plt.subplots()\n",
    "ax1.plot(avg_q_x2, P_dry[:,0,0], color = 'k')\n",
    "ax1.contourf(lon, P_dry[:,0,0], integrated_snow_density, cmap=plt.get_cmap(\"Reds\"))\n",
    "ax1.contourf(lon, P_dry[:,0,0], integrated_ice_density, cmap=plt.get_cmap(\"Blues\"), alpha = 0.5)\n",
    "ax1.set_ylim(10**5,10**6)\n",
    "ax1.set_yscale('log')\n",
    "ax1.invert_yaxis()\n",
    "ax1.set_ylabel('Pressure [mbar]')\n",
    "ax1.set_xlabel(r'Longitude [$\\degree$ East]')\n",
    "plt.title('Charge Distribution In Jovian Atmosphere')\n",
    "\n",
    "plt.figure()\n",
    "f2, ax2 = plt.subplots()\n",
    "ax2.plot(avg_q_x2, P_dry[:,0,0], color = 'k')\n",
    "ax2.contourf(lon, P_dry[:,0,0], integrated_snow_density, cmap=plt.get_cmap(\"Blues\"))\n",
    "ax2.set_yscale('log')\n",
    "ax2.invert_yaxis()\n",
    "ax2.set_ylabel('Pressure [mbar]')\n",
    "ax2.set_xlabel(r'Longitude [$\\degree$ East]')\n",
    "plt.title('Integrated Water Snow Density')\n",
    "\n",
    "plt.figure()\n",
    "f3, ax3 = plt.subplots()\n",
    "ax3.plot(avg_q_x2, P_dry[:,0,0], color = 'k')\n",
    "ax3.contourf(lon, P_dry[:,0,0], integrated_rain_density, cmap=plt.get_cmap(\"Blues\"))\n",
    "ax3.set_yscale('log')\n",
    "ax3.invert_yaxis()\n",
    "ax3.set_ylabel('Pressure [mbar]')\n",
    "ax3.set_xlabel(r'Longitude [$\\degree$ East]')\n",
    "plt.title('Integrated Water Rain Density')\n",
    "\n",
    "plt.figure()\n",
    "f4, ax4 = plt.subplots()\n",
    "ax4.plot(avg_q_x2, P_dry[:,0,0], color = 'k')\n",
    "ax4.contourf(lon, P_dry[:,0,0], integrated_liquid_density, cmap=plt.get_cmap(\"Blues\"))\n",
    "ax4.set_yscale('log')\n",
    "ax4.invert_yaxis()\n",
    "ax4.set_ylabel('Pressure [mbar]')\n",
    "ax4.set_xlabel(r'Longitude [$\\degree$ East]')\n",
    "plt.title('Integrated Water Liquid Droplet Density')\n",
    "\n",
    "plt.figure()\n",
    "f5, ax5 = plt.subplots()\n",
    "ax5.plot(avg_q_x2, P_dry[:,0,0], color = 'k')\n",
    "ax5.contourf(lon, P_dry[:,0,0], integrated_everything, cmap=plt.get_cmap(\"Blues\"))\n",
    "ax5.set_yscale('log')\n",
    "ax5.invert_yaxis()\n",
    "ax5.set_ylabel('Pressure [mbar]')\n",
    "ax5.set_xlabel(r'Longitude [$\\degree$ East]')\n",
    "plt.title('Total Integrated Water Density')\n",
    "\n",
    "print(np.max(avg_q))"
   ]
  },
  {
   "cell_type": "code",
   "execution_count": 13,
   "metadata": {},
   "outputs": [
    {
     "data": {
      "text/plain": [
       "Text(0.5, 1.0, 'Charge Distribution In Jovian Atmosphere')"
      ]
     },
     "execution_count": 13,
     "metadata": {},
     "output_type": "execute_result"
    },
    {
     "data": {
      "text/plain": [
       "<Figure size 432x288 with 0 Axes>"
      ]
     },
     "metadata": {},
     "output_type": "display_data"
    },
    {
     "data": {
      "image/png": "[encoded data removed]",
      "text/plain": [
       "<Figure size 432x288 with 1 Axes>"
      ]
     },
     "metadata": {
      "needs_background": "light"
     },
     "output_type": "display_data"
    }
   ],
   "source": [
    "# plot\n",
    "plt.figure()\n",
    "f, ax1 = plt.subplots()\n",
    "ax1.plot(avg_q_x2, P_dry[:,0,0], color = 'k')\n",
    "ax1.contourf(lon, P_dry[:,0,0], integrated_snow_density, cmap=plt.get_cmap(\"Reds\"))\n",
    "ax1.contourf(lon, P_dry[:,0,0], integrated_ice_density, cmap=plt.get_cmap(\"Blues\"), alpha = 0.5)\n",
    "# plot the pressure lines\n",
    "for i in range(len(P_dry[:,0,0])):\n",
    "    plt.axhline(P_dry[i,0,0], color = 'green')\n",
    "ax1.set_ylim(10**5,10**6)\n",
    "ax1.set_yscale('log')\n",
    "ax1.invert_yaxis()\n",
    "ax1.set_ylabel('Pressure [mbar]')\n",
    "ax1.set_xlabel(r'Longitude [$\\degree$ East]')\n",
    "plt.title('Charge Distribution In Jovian Atmosphere')\n"
   ]
  },
  {
   "cell_type": "code",
   "execution_count": 19,
   "metadata": {},
   "outputs": [
    {
     "name": "stdout",
     "output_type": "stream",
     "text": [
      "3.1317565037335475e-05\n",
      "-1.0884572845654204e-06\n"
     ]
    },
    {
     "data": {
      "text/plain": [
       "<Figure size 432x288 with 0 Axes>"
      ]
     },
     "metadata": {},
     "output_type": "display_data"
    },
    {
     "data": {
      "image/png": "[encoded data removed]",
      "text/plain": [
       "<Figure size 432x288 with 1 Axes>"
      ]
     },
     "metadata": {
      "needs_background": "light"
     },
     "output_type": "display_data"
    }
   ],
   "source": [
    "# plotting with respect to z\n",
    "plt.figure()\n",
    "f6, ax6 = plt.subplots()\n",
    "ax6.plot(avg_q_x2, z, color = 'k')\n",
    "ax6.contourf(lon, z, integrated_everything, cmap = plt.get_cmap(\"Blues\"))\n",
    "print(np.max(q_total))\n",
    "print(np.min(q_total))"
   ]
  },
  {
   "cell_type": "code",
   "execution_count": null,
   "metadata": {},
   "outputs": [],
   "source": []
  }
 ],
 "metadata": {
  "kernelspec": {
   "display_name": "Python 3",
   "language": "python",
   "name": "python3"
  },
  "language_info": {
   "codemirror_mode": {
    "name": "ipython",
    "version": 3
   },
   "file_extension": ".py",
   "mimetype": "text/x-python",
   "name": "python",
   "nbconvert_exporter": "python",
   "pygments_lexer": "ipython3",
   "version": "3.6.9"
  }
 },
 "nbformat": 4,
 "nbformat_minor": 2
}
